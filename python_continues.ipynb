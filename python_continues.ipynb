{
  "nbformat": 4,
  "nbformat_minor": 0,
  "metadata": {
    "colab": {
      "provenance": [],
      "authorship_tag": "ABX9TyPen95q3enntnlNA0wJ25vy",
      "include_colab_link": true
    },
    "kernelspec": {
      "name": "python3",
      "display_name": "Python 3"
    },
    "language_info": {
      "name": "python"
    }
  },
  "cells": [
    {
      "cell_type": "markdown",
      "metadata": {
        "id": "view-in-github",
        "colab_type": "text"
      },
      "source": [
        "<a href=\"https://colab.research.google.com/github/DrDee3a12/Python-continued/blob/main/python_continues.ipynb\" target=\"_parent\"><img src=\"https://colab.research.google.com/assets/colab-badge.svg\" alt=\"Open In Colab\"/></a>"
      ]
    },
    {
      "cell_type": "code",
      "execution_count": null,
      "metadata": {
        "colab": {
          "base_uri": "https://localhost:8080/"
        },
        "id": "PsOIHQl_bfFd",
        "outputId": "e69b77e3-8168-462e-8044-22b0b2401f2c"
      },
      "outputs": [
        {
          "output_type": "stream",
          "name": "stdout",
          "text": [
            "20.0\n"
          ]
        }
      ],
      "source": [
        "a = 10\n",
        "b = 20\n",
        "c = 30\n",
        "average = (a + b + c) / 3\n",
        "print(average)\n"
      ]
    },
    {
      "cell_type": "code",
      "source": [
        "a = 15\n",
        "b = 5\n",
        "result = a + b\n",
        "print(result)\n"
      ],
      "metadata": {
        "colab": {
          "base_uri": "https://localhost:8080/"
        },
        "id": "dRBr7cCjcdIS",
        "outputId": "378b43ab-709c-4e3a-b683-86d970747550"
      },
      "execution_count": null,
      "outputs": [
        {
          "output_type": "stream",
          "name": "stdout",
          "text": [
            "20\n"
          ]
        }
      ]
    },
    {
      "cell_type": "code",
      "source": [
        "weight = 70\n",
        "height = 1.75\n",
        "\n",
        "bmi = weight / (height * height)\n",
        "print(bmi)\n"
      ],
      "metadata": {
        "colab": {
          "base_uri": "https://localhost:8080/"
        },
        "id": "FE17dBxnci96",
        "outputId": "9c1a41c1-5b37-45dd-a5ac-cd203bedad8a"
      },
      "execution_count": null,
      "outputs": [
        {
          "output_type": "stream",
          "name": "stdout",
          "text": [
            "22.857142857142858\n"
          ]
        }
      ]
    }
  ]
}